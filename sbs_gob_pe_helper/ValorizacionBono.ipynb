{
 "cells": [
  {
   "cell_type": "markdown",
   "metadata": {},
   "source": [
    "## Ejercicio 1"
   ]
  },
  {
   "cell_type": "markdown",
   "metadata": {},
   "source": [
    "#### ¿Cuál es el precio de un bono bullet con un valor nominal de S/ 1,000.00, un plazo de vencimiento de 5 años y un cupón anual del 10%?"
   ]
  },
  {
   "cell_type": "markdown",
   "metadata": {},
   "source": [
    "La fórmula para valorizar un bono con tasas de interés variables y spread de crédito es:\n",
    "\n",
    "$$\n",
    "\\text{Valor del Bono} = \\sum_{i=1}^{n} \\frac{C_i}{(1 + r_i + s)^i} + \\frac{V_n}{(1 + r_n + s)^n}\n",
    "$$\n",
    "\n",
    "Donde:\n",
    "\n",
    "- ${C_i}$  es el pago periódico de cupón en el período ${ i }$.\n",
    "- ${ V_n }$ es el valor nominal (o valor de reembolso) del bono al vencimiento.\n",
    "- ${ r_i }$ es la tasa de interés en el período ${ i }$.\n",
    "- ${ r_n }$ es la tasa de interés en el período ${ n }$ (al vencimiento).\n",
    "- ${ s }$ es el spread de crédito, que refleja el riesgo crediticio adicional asociado con el emisor del bono.\n",
    "- ${ n }$ es el número de períodos hasta el vencimiento del bono.\n"
   ]
  },
  {
   "cell_type": "markdown",
   "metadata": {},
   "source": [
    "- Tipo de bono:  Bullet.\n",
    "- Tasa cupón:  10%.\n",
    "- Frecuencia de pago:  anual.\n",
    "- ${ n }$:  5.\n",
    "- ${ V_n }$:  S/. 1,000.00"
   ]
  },
  {
   "cell_type": "markdown",
   "metadata": {},
   "source": [
    "### ${C_i}$ = Tasa Cupon x ${ V_n }$"
   ]
  },
  {
   "cell_type": "code",
   "execution_count": 3,
   "metadata": {},
   "outputs": [],
   "source": [
    "Ci = 0.1*1000"
   ]
  },
  {
   "cell_type": "markdown",
   "metadata": {},
   "source": [
    "### ${ r_i }$ es la tasa de interés en el período ${ i }$."
   ]
  },
  {
   "cell_type": "code",
   "execution_count": 4,
   "metadata": {},
   "outputs": [],
   "source": [
    "import CuponCero as cc\n",
    "\n",
    "tp_curva = 'CCPSS'\n",
    "fec_proceso = '04/08/2023'\n",
    "df_cup= cc.get_curva_cupon_cero(tipoCurva=tp_curva, fechaProceso=fec_proceso)\n"
   ]
  },
  {
   "cell_type": "code",
   "execution_count": 5,
   "metadata": {},
   "outputs": [
    {
     "data": {
      "text/html": [
       "<div>\n",
       "<style scoped>\n",
       "    .dataframe tbody tr th:only-of-type {\n",
       "        vertical-align: middle;\n",
       "    }\n",
       "\n",
       "    .dataframe tbody tr th {\n",
       "        vertical-align: top;\n",
       "    }\n",
       "\n",
       "    .dataframe thead th {\n",
       "        text-align: right;\n",
       "    }\n",
       "</style>\n",
       "<table border=\"1\" class=\"dataframe\">\n",
       "  <thead>\n",
       "    <tr style=\"text-align: right;\">\n",
       "      <th></th>\n",
       "      <th>Sec.</th>\n",
       "      <th>Fecha de Proceso</th>\n",
       "      <th>Periodo (días)</th>\n",
       "      <th>Tasas (%)</th>\n",
       "    </tr>\n",
       "  </thead>\n",
       "  <tbody>\n",
       "    <tr>\n",
       "      <th>0</th>\n",
       "      <td>1</td>\n",
       "      <td>04/08/2023</td>\n",
       "      <td>0</td>\n",
       "      <td>7.223151</td>\n",
       "    </tr>\n",
       "    <tr>\n",
       "      <th>1</th>\n",
       "      <td>2</td>\n",
       "      <td>04/08/2023</td>\n",
       "      <td>90</td>\n",
       "      <td>6.367723</td>\n",
       "    </tr>\n",
       "    <tr>\n",
       "      <th>2</th>\n",
       "      <td>3</td>\n",
       "      <td>04/08/2023</td>\n",
       "      <td>180</td>\n",
       "      <td>5.935163</td>\n",
       "    </tr>\n",
       "    <tr>\n",
       "      <th>3</th>\n",
       "      <td>4</td>\n",
       "      <td>04/08/2023</td>\n",
       "      <td>270</td>\n",
       "      <td>5.747256</td>\n",
       "    </tr>\n",
       "    <tr>\n",
       "      <th>4</th>\n",
       "      <td>5</td>\n",
       "      <td>04/08/2023</td>\n",
       "      <td>360</td>\n",
       "      <td>5.697804</td>\n",
       "    </tr>\n",
       "  </tbody>\n",
       "</table>\n",
       "</div>"
      ],
      "text/plain": [
       "  Sec. Fecha de Proceso  Periodo (días)  Tasas (%)\n",
       "0    1       04/08/2023               0   7.223151\n",
       "1    2       04/08/2023              90   6.367723\n",
       "2    3       04/08/2023             180   5.935163\n",
       "3    4       04/08/2023             270   5.747256\n",
       "4    5       04/08/2023             360   5.697804"
      ]
     },
     "execution_count": 5,
     "metadata": {},
     "output_type": "execute_result"
    }
   ],
   "source": [
    "df_cup.head()"
   ]
  },
  {
   "cell_type": "code",
   "execution_count": 7,
   "metadata": {},
   "outputs": [
    {
     "data": {
      "text/html": [
       "<div>\n",
       "<style scoped>\n",
       "    .dataframe tbody tr th:only-of-type {\n",
       "        vertical-align: middle;\n",
       "    }\n",
       "\n",
       "    .dataframe tbody tr th {\n",
       "        vertical-align: top;\n",
       "    }\n",
       "\n",
       "    .dataframe thead th {\n",
       "        text-align: right;\n",
       "    }\n",
       "</style>\n",
       "<table border=\"1\" class=\"dataframe\">\n",
       "  <thead>\n",
       "    <tr style=\"text-align: right;\">\n",
       "      <th></th>\n",
       "      <th>Sec.</th>\n",
       "      <th>Fecha de Proceso</th>\n",
       "      <th>Periodo (días)</th>\n",
       "      <th>Tasas (%)</th>\n",
       "    </tr>\n",
       "  </thead>\n",
       "  <tbody>\n",
       "    <tr>\n",
       "      <th>0</th>\n",
       "      <td>1</td>\n",
       "      <td>04/08/2023</td>\n",
       "      <td>0</td>\n",
       "      <td>7.223151</td>\n",
       "    </tr>\n",
       "    <tr>\n",
       "      <th>4</th>\n",
       "      <td>5</td>\n",
       "      <td>04/08/2023</td>\n",
       "      <td>360</td>\n",
       "      <td>5.697804</td>\n",
       "    </tr>\n",
       "    <tr>\n",
       "      <th>8</th>\n",
       "      <td>9</td>\n",
       "      <td>04/08/2023</td>\n",
       "      <td>720</td>\n",
       "      <td>5.952841</td>\n",
       "    </tr>\n",
       "    <tr>\n",
       "      <th>12</th>\n",
       "      <td>13</td>\n",
       "      <td>04/08/2023</td>\n",
       "      <td>1080</td>\n",
       "      <td>6.247138</td>\n",
       "    </tr>\n",
       "    <tr>\n",
       "      <th>16</th>\n",
       "      <td>17</td>\n",
       "      <td>04/08/2023</td>\n",
       "      <td>1440</td>\n",
       "      <td>6.440637</td>\n",
       "    </tr>\n",
       "  </tbody>\n",
       "</table>\n",
       "</div>"
      ],
      "text/plain": [
       "   Sec. Fecha de Proceso  Periodo (días)  Tasas (%)\n",
       "0     1       04/08/2023               0   7.223151\n",
       "4     5       04/08/2023             360   5.697804\n",
       "8     9       04/08/2023             720   5.952841\n",
       "12   13       04/08/2023            1080   6.247138\n",
       "16   17       04/08/2023            1440   6.440637"
      ]
     },
     "execution_count": 7,
     "metadata": {},
     "output_type": "execute_result"
    }
   ],
   "source": [
    "df_cup_por_anio = df_cup[df_cup['Periodo (días)'] % 360 == 0].copy()\n",
    "df_cup_por_anio.head()"
   ]
  },
  {
   "cell_type": "code",
   "execution_count": null,
   "metadata": {},
   "outputs": [],
   "source": []
  },
  {
   "cell_type": "code",
   "execution_count": 8,
   "metadata": {},
   "outputs": [],
   "source": [
    "import IndiceSpreadsCorporativo as isc \n",
    "tpCurva = 'CCPSS'\n",
    "fInicial = '04/08/2023'\n",
    "fFinal = '04/08/2023'\n",
    "\n",
    "df_isc = isc.get_indice_spreads_corporativo(tipoCurva=tpCurva,fechaInicial=fInicial, fechaFinal=fFinal)"
   ]
  },
  {
   "cell_type": "code",
   "execution_count": 9,
   "metadata": {},
   "outputs": [
    {
     "data": {
      "text/html": [
       "<div>\n",
       "<style scoped>\n",
       "    .dataframe tbody tr th:only-of-type {\n",
       "        vertical-align: middle;\n",
       "    }\n",
       "\n",
       "    .dataframe tbody tr th {\n",
       "        vertical-align: top;\n",
       "    }\n",
       "\n",
       "    .dataframe thead th {\n",
       "        text-align: right;\n",
       "    }\n",
       "</style>\n",
       "<table border=\"1\" class=\"dataframe\">\n",
       "  <thead>\n",
       "    <tr style=\"text-align: right;\">\n",
       "      <th></th>\n",
       "      <th>fechaPro</th>\n",
       "      <th>fechaProceso</th>\n",
       "      <th>tipoCurva</th>\n",
       "      <th>clasificacion</th>\n",
       "      <th>indiceSpreads</th>\n",
       "      <th>indiceSpreadsF</th>\n",
       "      <th>clasificacionB</th>\n",
       "      <th>indiceSpreadsFB</th>\n",
       "      <th>indIng</th>\n",
       "    </tr>\n",
       "  </thead>\n",
       "  <tbody>\n",
       "    <tr>\n",
       "      <th>0</th>\n",
       "      <td>2023-08-04T00:00:00</td>\n",
       "      <td>04/08/2023</td>\n",
       "      <td>CCPSS</td>\n",
       "      <td>1</td>\n",
       "      <td>0.69605</td>\n",
       "      <td>0.6960</td>\n",
       "      <td>0</td>\n",
       "      <td>None</td>\n",
       "      <td>S</td>\n",
       "    </tr>\n",
       "  </tbody>\n",
       "</table>\n",
       "</div>"
      ],
      "text/plain": [
       "              fechaPro fechaProceso tipoCurva  clasificacion  indiceSpreads  \\\n",
       "0  2023-08-04T00:00:00   04/08/2023     CCPSS              1        0.69605   \n",
       "\n",
       "  indiceSpreadsF  clasificacionB indiceSpreadsFB indIng  \n",
       "0         0.6960               0            None      S  "
      ]
     },
     "execution_count": 9,
     "metadata": {},
     "output_type": "execute_result"
    }
   ],
   "source": [
    "df_isc"
   ]
  },
  {
   "cell_type": "code",
   "execution_count": 14,
   "metadata": {},
   "outputs": [
    {
     "name": "stdout",
     "output_type": "stream",
     "text": [
      "500.0\n"
     ]
    }
   ],
   "source": [
    "\n",
    "precio_bono = 0\n",
    "\n",
    "for i in range(1,6):\n",
    "\n",
    "    precio_bono = precio_bono + Ci\n",
    "\n",
    "print(Precio_bono)\n",
    "    "
   ]
  }
 ],
 "metadata": {
  "kernelspec": {
   "display_name": "sbs-helper",
   "language": "python",
   "name": "python3"
  },
  "language_info": {
   "codemirror_mode": {
    "name": "ipython",
    "version": 3
   },
   "file_extension": ".py",
   "mimetype": "text/x-python",
   "name": "python",
   "nbconvert_exporter": "python",
   "pygments_lexer": "ipython3",
   "version": "3.7.9"
  },
  "orig_nbformat": 4
 },
 "nbformat": 4,
 "nbformat_minor": 2
}
