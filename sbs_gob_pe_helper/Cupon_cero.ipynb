{
 "cells": [
  {
   "cell_type": "code",
   "execution_count": 2,
   "metadata": {},
   "outputs": [],
   "source": [
    "import CuponCero as cc\n",
    "import pandas as pd \n",
    "import requests "
   ]
  },
  {
   "cell_type": "code",
   "execution_count": 3,
   "metadata": {},
   "outputs": [
    {
     "data": {
      "text/html": [
       "<div>\n",
       "<style scoped>\n",
       "    .dataframe tbody tr th:only-of-type {\n",
       "        vertical-align: middle;\n",
       "    }\n",
       "\n",
       "    .dataframe tbody tr th {\n",
       "        vertical-align: top;\n",
       "    }\n",
       "\n",
       "    .dataframe thead th {\n",
       "        text-align: right;\n",
       "    }\n",
       "</style>\n",
       "<table border=\"1\" class=\"dataframe\">\n",
       "  <thead>\n",
       "    <tr style=\"text-align: right;\">\n",
       "      <th></th>\n",
       "      <th>Fecha de Proceso</th>\n",
       "      <th>Tipo de Curva</th>\n",
       "      <th>Plazo (DIAS)</th>\n",
       "      <th>Tasas (%)</th>\n",
       "    </tr>\n",
       "  </thead>\n",
       "  <tbody>\n",
       "    <tr>\n",
       "      <th>0</th>\n",
       "      <td>29/01/2024</td>\n",
       "      <td>CCPSS</td>\n",
       "      <td>0</td>\n",
       "      <td>6.38996</td>\n",
       "    </tr>\n",
       "    <tr>\n",
       "      <th>1</th>\n",
       "      <td>29/01/2024</td>\n",
       "      <td>CCPSS</td>\n",
       "      <td>90</td>\n",
       "      <td>5.70022</td>\n",
       "    </tr>\n",
       "    <tr>\n",
       "      <th>2</th>\n",
       "      <td>29/01/2024</td>\n",
       "      <td>CCPSS</td>\n",
       "      <td>180</td>\n",
       "      <td>5.26596</td>\n",
       "    </tr>\n",
       "    <tr>\n",
       "      <th>3</th>\n",
       "      <td>29/01/2024</td>\n",
       "      <td>CCPSS</td>\n",
       "      <td>270</td>\n",
       "      <td>5.00990</td>\n",
       "    </tr>\n",
       "    <tr>\n",
       "      <th>4</th>\n",
       "      <td>29/01/2024</td>\n",
       "      <td>CCPSS</td>\n",
       "      <td>360</td>\n",
       "      <td>4.87731</td>\n",
       "    </tr>\n",
       "  </tbody>\n",
       "</table>\n",
       "</div>"
      ],
      "text/plain": [
       "0 Fecha de Proceso Tipo de Curva Plazo (DIAS) Tasas (%)\n",
       "0       29/01/2024         CCPSS            0   6.38996\n",
       "1       29/01/2024         CCPSS           90   5.70022\n",
       "2       29/01/2024         CCPSS          180   5.26596\n",
       "3       29/01/2024         CCPSS          270   5.00990\n",
       "4       29/01/2024         CCPSS          360   4.87731"
      ]
     },
     "execution_count": 3,
     "metadata": {},
     "output_type": "execute_result"
    }
   ],
   "source": [
    "inicio=\"28/01/2024\"\n",
    "fin=\"28/11/2025\"\n",
    "tipoCurva='CCPSS'\n",
    "\n",
    "#obtiene todos los datos de la curva de cupon cero de un determinado fecha de proceso\n",
    "df_cup_hist = cc.get_curva_cupon_cero_historico(FechaInicio=inicio,FechaFin=fin,TipoCurva=tipoCurva)\n",
    "df_cup_hist.head()"
   ]
  },
  {
   "cell_type": "code",
   "execution_count": 4,
   "metadata": {},
   "outputs": [
    {
     "data": {
      "text/html": [
       "<div>\n",
       "<style scoped>\n",
       "    .dataframe tbody tr th:only-of-type {\n",
       "        vertical-align: middle;\n",
       "    }\n",
       "\n",
       "    .dataframe tbody tr th {\n",
       "        vertical-align: top;\n",
       "    }\n",
       "\n",
       "    .dataframe thead th {\n",
       "        text-align: right;\n",
       "    }\n",
       "</style>\n",
       "<table border=\"1\" class=\"dataframe\">\n",
       "  <thead>\n",
       "    <tr style=\"text-align: right;\">\n",
       "      <th></th>\n",
       "      <th>Fecha de Proceso</th>\n",
       "      <th>Tipo de Curva</th>\n",
       "      <th>0</th>\n",
       "      <th>90</th>\n",
       "      <th>180</th>\n",
       "      <th>270</th>\n",
       "      <th>360</th>\n",
       "      <th>450</th>\n",
       "      <th>540</th>\n",
       "      <th>630</th>\n",
       "      <th>...</th>\n",
       "      <th>13590</th>\n",
       "      <th>13680</th>\n",
       "      <th>13770</th>\n",
       "      <th>13860</th>\n",
       "      <th>13950</th>\n",
       "      <th>14040</th>\n",
       "      <th>14130</th>\n",
       "      <th>14220</th>\n",
       "      <th>14310</th>\n",
       "      <th>14400</th>\n",
       "    </tr>\n",
       "  </thead>\n",
       "  <tbody>\n",
       "    <tr>\n",
       "      <th>0</th>\n",
       "      <td>01/02/2024</td>\n",
       "      <td>CCPSS</td>\n",
       "      <td>6.38996</td>\n",
       "      <td>5.72138</td>\n",
       "      <td>5.28047</td>\n",
       "      <td>5.00378</td>\n",
       "      <td>4.84493</td>\n",
       "      <td>4.76998</td>\n",
       "      <td>4.75406</td>\n",
       "      <td>4.77896</td>\n",
       "      <td>...</td>\n",
       "      <td>6.86550</td>\n",
       "      <td>6.86413</td>\n",
       "      <td>6.86276</td>\n",
       "      <td>6.86138</td>\n",
       "      <td>6.86000</td>\n",
       "      <td>6.85862</td>\n",
       "      <td>6.85724</td>\n",
       "      <td>6.85585</td>\n",
       "      <td>6.85446</td>\n",
       "      <td>6.85307</td>\n",
       "    </tr>\n",
       "    <tr>\n",
       "      <th>1</th>\n",
       "      <td>01/03/2024</td>\n",
       "      <td>CCPSS</td>\n",
       "      <td>6.25004</td>\n",
       "      <td>5.65948</td>\n",
       "      <td>5.26684</td>\n",
       "      <td>5.01970</td>\n",
       "      <td>4.87904</td>\n",
       "      <td>4.81574</td>\n",
       "      <td>4.80801</td>\n",
       "      <td>4.83961</td>\n",
       "      <td>...</td>\n",
       "      <td>7.13207</td>\n",
       "      <td>7.12882</td>\n",
       "      <td>7.12559</td>\n",
       "      <td>7.12235</td>\n",
       "      <td>7.11913</td>\n",
       "      <td>7.11591</td>\n",
       "      <td>7.11270</td>\n",
       "      <td>7.10949</td>\n",
       "      <td>7.10629</td>\n",
       "      <td>7.10311</td>\n",
       "    </tr>\n",
       "    <tr>\n",
       "      <th>2</th>\n",
       "      <td>01/04/2024</td>\n",
       "      <td>CCPSS</td>\n",
       "      <td>6.23995</td>\n",
       "      <td>5.79161</td>\n",
       "      <td>5.49641</td>\n",
       "      <td>5.31624</td>\n",
       "      <td>5.22204</td>\n",
       "      <td>5.19157</td>\n",
       "      <td>5.20784</td>\n",
       "      <td>5.25784</td>\n",
       "      <td>...</td>\n",
       "      <td>7.47620</td>\n",
       "      <td>7.47065</td>\n",
       "      <td>7.46512</td>\n",
       "      <td>7.45963</td>\n",
       "      <td>7.45418</td>\n",
       "      <td>7.44876</td>\n",
       "      <td>7.44337</td>\n",
       "      <td>7.43801</td>\n",
       "      <td>7.43269</td>\n",
       "      <td>7.42741</td>\n",
       "    </tr>\n",
       "    <tr>\n",
       "      <th>3</th>\n",
       "      <td>01/05/2024</td>\n",
       "      <td>CCPSS</td>\n",
       "      <td>5.44792</td>\n",
       "      <td>5.26631</td>\n",
       "      <td>5.15900</td>\n",
       "      <td>5.10835</td>\n",
       "      <td>5.10063</td>\n",
       "      <td>5.12510</td>\n",
       "      <td>5.17340</td>\n",
       "      <td>5.23901</td>\n",
       "      <td>...</td>\n",
       "      <td>7.12615</td>\n",
       "      <td>7.11764</td>\n",
       "      <td>7.10916</td>\n",
       "      <td>7.10072</td>\n",
       "      <td>7.09232</td>\n",
       "      <td>7.08395</td>\n",
       "      <td>7.07563</td>\n",
       "      <td>7.06735</td>\n",
       "      <td>7.05911</td>\n",
       "      <td>7.05091</td>\n",
       "    </tr>\n",
       "    <tr>\n",
       "      <th>4</th>\n",
       "      <td>01/07/2024</td>\n",
       "      <td>CCPSS</td>\n",
       "      <td>5.40881</td>\n",
       "      <td>5.30045</td>\n",
       "      <td>5.24147</td>\n",
       "      <td>5.22040</td>\n",
       "      <td>5.22820</td>\n",
       "      <td>5.25774</td>\n",
       "      <td>5.30345</td>\n",
       "      <td>5.36094</td>\n",
       "      <td>...</td>\n",
       "      <td>7.23888</td>\n",
       "      <td>7.23221</td>\n",
       "      <td>7.22554</td>\n",
       "      <td>7.21888</td>\n",
       "      <td>7.21223</td>\n",
       "      <td>7.20559</td>\n",
       "      <td>7.19896</td>\n",
       "      <td>7.19235</td>\n",
       "      <td>7.18574</td>\n",
       "      <td>7.17915</td>\n",
       "    </tr>\n",
       "  </tbody>\n",
       "</table>\n",
       "<p>5 rows × 163 columns</p>\n",
       "</div>"
      ],
      "text/plain": [
       "  Fecha de Proceso Tipo de Curva        0       90      180      270      360  \\\n",
       "0       01/02/2024         CCPSS  6.38996  5.72138  5.28047  5.00378  4.84493   \n",
       "1       01/03/2024         CCPSS  6.25004  5.65948  5.26684  5.01970  4.87904   \n",
       "2       01/04/2024         CCPSS  6.23995  5.79161  5.49641  5.31624  5.22204   \n",
       "3       01/05/2024         CCPSS  5.44792  5.26631  5.15900  5.10835  5.10063   \n",
       "4       01/07/2024         CCPSS  5.40881  5.30045  5.24147  5.22040  5.22820   \n",
       "\n",
       "       450      540      630  ...    13590    13680    13770    13860  \\\n",
       "0  4.76998  4.75406  4.77896  ...  6.86550  6.86413  6.86276  6.86138   \n",
       "1  4.81574  4.80801  4.83961  ...  7.13207  7.12882  7.12559  7.12235   \n",
       "2  5.19157  5.20784  5.25784  ...  7.47620  7.47065  7.46512  7.45963   \n",
       "3  5.12510  5.17340  5.23901  ...  7.12615  7.11764  7.10916  7.10072   \n",
       "4  5.25774  5.30345  5.36094  ...  7.23888  7.23221  7.22554  7.21888   \n",
       "\n",
       "     13950    14040    14130    14220    14310    14400  \n",
       "0  6.86000  6.85862  6.85724  6.85585  6.85446  6.85307  \n",
       "1  7.11913  7.11591  7.11270  7.10949  7.10629  7.10311  \n",
       "2  7.45418  7.44876  7.44337  7.43801  7.43269  7.42741  \n",
       "3  7.09232  7.08395  7.07563  7.06735  7.05911  7.05091  \n",
       "4  7.21223  7.20559  7.19896  7.19235  7.18574  7.17915  \n",
       "\n",
       "[5 rows x 163 columns]"
      ]
     },
     "execution_count": 4,
     "metadata": {},
     "output_type": "execute_result"
    }
   ],
   "source": [
    "df_cup_hist_pivot = cc.pivot_curva_cupon_cero_historico(df_cup_hist)\n",
    "df_cup_hist_pivot.head()"
   ]
  },
  {
   "cell_type": "code",
   "execution_count": 17,
   "metadata": {},
   "outputs": [
    {
     "data": {
      "text/html": [
       "<div>\n",
       "<style scoped>\n",
       "    .dataframe tbody tr th:only-of-type {\n",
       "        vertical-align: middle;\n",
       "    }\n",
       "\n",
       "    .dataframe tbody tr th {\n",
       "        vertical-align: top;\n",
       "    }\n",
       "\n",
       "    .dataframe thead th {\n",
       "        text-align: right;\n",
       "    }\n",
       "</style>\n",
       "<table border=\"1\" class=\"dataframe\">\n",
       "  <thead>\n",
       "    <tr style=\"text-align: right;\">\n",
       "      <th></th>\n",
       "      <th>Fecha de Proceso</th>\n",
       "      <th>Tipo de Curva</th>\n",
       "      <th>0</th>\n",
       "      <th>90</th>\n",
       "      <th>180</th>\n",
       "    </tr>\n",
       "  </thead>\n",
       "  <tbody>\n",
       "    <tr>\n",
       "      <th>0</th>\n",
       "      <td>01/08/2023</td>\n",
       "      <td>CCPSS</td>\n",
       "      <td>5</td>\n",
       "      <td>6</td>\n",
       "      <td>8</td>\n",
       "    </tr>\n",
       "    <tr>\n",
       "      <th>1</th>\n",
       "      <td>02/08/2023</td>\n",
       "      <td>CCPSS</td>\n",
       "      <td>2</td>\n",
       "      <td>5</td>\n",
       "      <td>6</td>\n",
       "    </tr>\n",
       "  </tbody>\n",
       "</table>\n",
       "</div>"
      ],
      "text/plain": [
       "  Fecha de Proceso Tipo de Curva  0  90  180\n",
       "0       01/08/2023         CCPSS  5   6    8\n",
       "1       02/08/2023         CCPSS  2   5    6"
      ]
     },
     "execution_count": 17,
     "metadata": {},
     "output_type": "execute_result"
    }
   ],
   "source": [
    "import pandas as pd\n",
    "\n",
    "# Tu DataFrame original\n",
    "data = {\n",
    "    \"Fecha de Proceso\": [\"01/08/2023\", \"01/08/2023\", \"01/08/2023\", \"02/08/2023\", \"02/08/2023\", \"02/08/2023\"],\n",
    "    \"Tipo de Curva\": [\"CCPSS\", \"CCPSS\", \"CCPSS\", \"CCPSS\", \"CCPSS\", \"CCPSS\"],\n",
    "    \"Plazo (DIAS)\": [0, 90, 180, 0, 90, 180],\n",
    "    \"Tasas (%)\": [5, 6, 8, 2, 5, 6]\n",
    "}\n",
    "\n",
    "df = pd.DataFrame(data)\n",
    "\n",
    "# Pivotar el DataFrame\n",
    "pivot_df = df.pivot(index=[\"Fecha de Proceso\", \"Tipo de Curva\"], columns=\"Plazo (DIAS)\", values=\"Tasas (%)\").reset_index()\n",
    "\n",
    "# Renombrar las columnas\n",
    "pivot_df.columns.name = None\n",
    "\n",
    "# Renombrar las columnas de Plazo\n",
    "#pivot_df.rename(columns=lambda x: f\"Tasa_{x}\", inplace=True)\n",
    "\n",
    "pivot_df\n"
   ]
  },
  {
   "cell_type": "code",
   "execution_count": 18,
   "metadata": {},
   "outputs": [
    {
     "data": {
      "text/html": [
       "<div>\n",
       "<style scoped>\n",
       "    .dataframe tbody tr th:only-of-type {\n",
       "        vertical-align: middle;\n",
       "    }\n",
       "\n",
       "    .dataframe tbody tr th {\n",
       "        vertical-align: top;\n",
       "    }\n",
       "\n",
       "    .dataframe thead th {\n",
       "        text-align: right;\n",
       "    }\n",
       "</style>\n",
       "<table border=\"1\" class=\"dataframe\">\n",
       "  <thead>\n",
       "    <tr style=\"text-align: right;\">\n",
       "      <th></th>\n",
       "      <th>Fecha de Proceso</th>\n",
       "      <th>Tipo de Curva</th>\n",
       "      <th>Plazo (DIAS)</th>\n",
       "      <th>Tasas (%)</th>\n",
       "    </tr>\n",
       "  </thead>\n",
       "  <tbody>\n",
       "    <tr>\n",
       "      <th>0</th>\n",
       "      <td>01/08/2023</td>\n",
       "      <td>CCPSS</td>\n",
       "      <td>0</td>\n",
       "      <td>5</td>\n",
       "    </tr>\n",
       "    <tr>\n",
       "      <th>1</th>\n",
       "      <td>01/08/2023</td>\n",
       "      <td>CCPSS</td>\n",
       "      <td>90</td>\n",
       "      <td>6</td>\n",
       "    </tr>\n",
       "    <tr>\n",
       "      <th>2</th>\n",
       "      <td>01/08/2023</td>\n",
       "      <td>CCPSS</td>\n",
       "      <td>180</td>\n",
       "      <td>8</td>\n",
       "    </tr>\n",
       "    <tr>\n",
       "      <th>3</th>\n",
       "      <td>02/08/2023</td>\n",
       "      <td>CCPSS</td>\n",
       "      <td>0</td>\n",
       "      <td>2</td>\n",
       "    </tr>\n",
       "    <tr>\n",
       "      <th>4</th>\n",
       "      <td>02/08/2023</td>\n",
       "      <td>CCPSS</td>\n",
       "      <td>90</td>\n",
       "      <td>5</td>\n",
       "    </tr>\n",
       "    <tr>\n",
       "      <th>5</th>\n",
       "      <td>02/08/2023</td>\n",
       "      <td>CCPSS</td>\n",
       "      <td>180</td>\n",
       "      <td>6</td>\n",
       "    </tr>\n",
       "  </tbody>\n",
       "</table>\n",
       "</div>"
      ],
      "text/plain": [
       "  Fecha de Proceso Tipo de Curva  Plazo (DIAS)  Tasas (%)\n",
       "0       01/08/2023         CCPSS             0          5\n",
       "1       01/08/2023         CCPSS            90          6\n",
       "2       01/08/2023         CCPSS           180          8\n",
       "3       02/08/2023         CCPSS             0          2\n",
       "4       02/08/2023         CCPSS            90          5\n",
       "5       02/08/2023         CCPSS           180          6"
      ]
     },
     "execution_count": 18,
     "metadata": {},
     "output_type": "execute_result"
    }
   ],
   "source": [
    "df"
   ]
  },
  {
   "cell_type": "markdown",
   "metadata": {},
   "source": [
    "| Codigo | Descripciòn |\n",
    "| ------ | ------ |\n",
    "| CBCRS |    Curva Cupon Cero CD BCRP|\n",
    "| CCSDF |   Curva Cupon Cero Dólares CP|\n",
    "| CSBCRD | Curva Cupon Cero Dólares Sintetica|\n",
    "| CCINFS | Curva Cupon Cero Inflacion Soles BCRP|\n",
    "| CCCLD | Curva Cupon Cero Libor Dolares|\n",
    "| CCPEDS | Curva Cupon Cero Peru Exterior Dolares - Soberana|\n",
    "| CCPSS | Curva Cupon Cero Peru Soles Soberana|\n",
    "| CCPVS | Curva Cupon Cero Peru Vac Soberana|"
   ]
  },
  {
   "cell_type": "code",
   "execution_count": 19,
   "metadata": {},
   "outputs": [
    {
     "data": {
      "text/html": [
       "<div>\n",
       "<style scoped>\n",
       "    .dataframe tbody tr th:only-of-type {\n",
       "        vertical-align: middle;\n",
       "    }\n",
       "\n",
       "    .dataframe tbody tr th {\n",
       "        vertical-align: top;\n",
       "    }\n",
       "\n",
       "    .dataframe thead th {\n",
       "        text-align: right;\n",
       "    }\n",
       "</style>\n",
       "<table border=\"1\" class=\"dataframe\">\n",
       "  <thead>\n",
       "    <tr style=\"text-align: right;\">\n",
       "      <th></th>\n",
       "      <th>Fecha de Proceso</th>\n",
       "      <th>Tipo de Curva</th>\n",
       "      <th>Plazo (DIAS)</th>\n",
       "      <th>Tasas (%)</th>\n",
       "    </tr>\n",
       "  </thead>\n",
       "  <tbody>\n",
       "    <tr>\n",
       "      <th>0</th>\n",
       "      <td>01/08/2023</td>\n",
       "      <td>CCPSS</td>\n",
       "      <td>0</td>\n",
       "      <td>5</td>\n",
       "    </tr>\n",
       "    <tr>\n",
       "      <th>1</th>\n",
       "      <td>01/08/2023</td>\n",
       "      <td>CCPSS</td>\n",
       "      <td>90</td>\n",
       "      <td>6</td>\n",
       "    </tr>\n",
       "    <tr>\n",
       "      <th>2</th>\n",
       "      <td>01/08/2023</td>\n",
       "      <td>CCPSS</td>\n",
       "      <td>180</td>\n",
       "      <td>8</td>\n",
       "    </tr>\n",
       "    <tr>\n",
       "      <th>3</th>\n",
       "      <td>02/08/2023</td>\n",
       "      <td>CCPSS</td>\n",
       "      <td>0</td>\n",
       "      <td>2</td>\n",
       "    </tr>\n",
       "    <tr>\n",
       "      <th>4</th>\n",
       "      <td>02/08/2023</td>\n",
       "      <td>CCPSS</td>\n",
       "      <td>90</td>\n",
       "      <td>5</td>\n",
       "    </tr>\n",
       "  </tbody>\n",
       "</table>\n",
       "</div>"
      ],
      "text/plain": [
       "  Fecha de Proceso Tipo de Curva  Plazo (DIAS)  Tasas (%)\n",
       "0       01/08/2023         CCPSS             0          5\n",
       "1       01/08/2023         CCPSS            90          6\n",
       "2       01/08/2023         CCPSS           180          8\n",
       "3       02/08/2023         CCPSS             0          2\n",
       "4       02/08/2023         CCPSS            90          5"
      ]
     },
     "execution_count": 19,
     "metadata": {},
     "output_type": "execute_result"
    }
   ],
   "source": [
    "df.head()"
   ]
  },
  {
   "cell_type": "code",
   "execution_count": 20,
   "metadata": {},
   "outputs": [],
   "source": [
    "tp_curva = 'CCPSS'\n",
    "fec_proceso = '31/07/2023'\n",
    "df_cup= cc.get_curva_cupon_cero(tipoCurva=tp_curva, fechaProceso=fec_proceso)"
   ]
  },
  {
   "cell_type": "code",
   "execution_count": 21,
   "metadata": {},
   "outputs": [
    {
     "data": {
      "text/html": [
       "<div>\n",
       "<style scoped>\n",
       "    .dataframe tbody tr th:only-of-type {\n",
       "        vertical-align: middle;\n",
       "    }\n",
       "\n",
       "    .dataframe tbody tr th {\n",
       "        vertical-align: top;\n",
       "    }\n",
       "\n",
       "    .dataframe thead th {\n",
       "        text-align: right;\n",
       "    }\n",
       "</style>\n",
       "<table border=\"1\" class=\"dataframe\">\n",
       "  <thead>\n",
       "    <tr style=\"text-align: right;\">\n",
       "      <th></th>\n",
       "      <th>Sec.</th>\n",
       "      <th>Fecha de Proceso</th>\n",
       "      <th>Periodo (días)</th>\n",
       "      <th>Tasas (%)</th>\n",
       "    </tr>\n",
       "  </thead>\n",
       "  <tbody>\n",
       "    <tr>\n",
       "      <th>0</th>\n",
       "      <td>1</td>\n",
       "      <td>31/07/2023</td>\n",
       "      <td>0</td>\n",
       "      <td>7.223151</td>\n",
       "    </tr>\n",
       "    <tr>\n",
       "      <th>1</th>\n",
       "      <td>2</td>\n",
       "      <td>31/07/2023</td>\n",
       "      <td>90</td>\n",
       "      <td>6.541085</td>\n",
       "    </tr>\n",
       "    <tr>\n",
       "      <th>2</th>\n",
       "      <td>3</td>\n",
       "      <td>31/07/2023</td>\n",
       "      <td>180</td>\n",
       "      <td>6.135739</td>\n",
       "    </tr>\n",
       "    <tr>\n",
       "      <th>3</th>\n",
       "      <td>4</td>\n",
       "      <td>31/07/2023</td>\n",
       "      <td>270</td>\n",
       "      <td>5.910281</td>\n",
       "    </tr>\n",
       "    <tr>\n",
       "      <th>4</th>\n",
       "      <td>5</td>\n",
       "      <td>31/07/2023</td>\n",
       "      <td>360</td>\n",
       "      <td>5.800567</td>\n",
       "    </tr>\n",
       "  </tbody>\n",
       "</table>\n",
       "</div>"
      ],
      "text/plain": [
       "  Sec. Fecha de Proceso  Periodo (días)  Tasas (%)\n",
       "0    1       31/07/2023               0   7.223151\n",
       "1    2       31/07/2023              90   6.541085\n",
       "2    3       31/07/2023             180   6.135739\n",
       "3    4       31/07/2023             270   5.910281\n",
       "4    5       31/07/2023             360   5.800567"
      ]
     },
     "execution_count": 21,
     "metadata": {},
     "output_type": "execute_result"
    }
   ],
   "source": [
    "df_cup.head()"
   ]
  },
  {
   "cell_type": "code",
   "execution_count": 22,
   "metadata": {},
   "outputs": [
    {
     "data": {
      "application/vnd.plotly.v1+json": {
       "config": {
        "plotlyServerURL": "https://plot.ly"
       },
       "data": [
        {
         "mode": "lines+markers",
         "name": "lines+markers",
         "type": "scatter",
         "x": [
          0,
          1,
          2,
          3,
          4,
          5,
          6,
          7,
          8,
          9,
          10,
          11,
          12,
          13,
          14,
          15,
          16,
          17,
          18,
          19,
          20,
          21,
          22,
          23,
          24,
          25,
          26,
          27,
          28,
          29,
          30,
          31,
          32,
          33,
          34,
          35,
          36,
          37,
          38,
          39,
          40
         ],
         "y": [
          7.2231506,
          5.8005665,
          5.8578788,
          6.0875317,
          6.2737999,
          6.4049644,
          6.49712,
          6.5639312,
          6.6141673,
          6.6532111,
          6.684418,
          6.70995,
          6.731251,
          6.7493184,
          6.764861,
          6.778396,
          6.7903088,
          6.8008918,
          6.8103713,
          6.8189242,
          6.8266914,
          6.8337857,
          6.840299,
          6.8463067,
          6.851871,
          6.857044,
          6.8618696,
          6.8663848,
          6.8706213,
          6.8746064,
          6.8783635,
          6.8819132,
          6.8852734,
          6.8884597,
          6.891486,
          6.8943647,
          6.8971067,
          6.8997219,
          6.9022191,
          6.9046062,
          6.9068905
         ]
        }
       ],
       "layout": {
        "margin": {
         "b": 10,
         "l": 20,
         "r": 10,
         "t": 20
        },
        "template": {
         "data": {
          "bar": [
           {
            "error_x": {
             "color": "#2a3f5f"
            },
            "error_y": {
             "color": "#2a3f5f"
            },
            "marker": {
             "line": {
              "color": "#E5ECF6",
              "width": 0.5
             },
             "pattern": {
              "fillmode": "overlay",
              "size": 10,
              "solidity": 0.2
             }
            },
            "type": "bar"
           }
          ],
          "barpolar": [
           {
            "marker": {
             "line": {
              "color": "#E5ECF6",
              "width": 0.5
             },
             "pattern": {
              "fillmode": "overlay",
              "size": 10,
              "solidity": 0.2
             }
            },
            "type": "barpolar"
           }
          ],
          "carpet": [
           {
            "aaxis": {
             "endlinecolor": "#2a3f5f",
             "gridcolor": "white",
             "linecolor": "white",
             "minorgridcolor": "white",
             "startlinecolor": "#2a3f5f"
            },
            "baxis": {
             "endlinecolor": "#2a3f5f",
             "gridcolor": "white",
             "linecolor": "white",
             "minorgridcolor": "white",
             "startlinecolor": "#2a3f5f"
            },
            "type": "carpet"
           }
          ],
          "choropleth": [
           {
            "colorbar": {
             "outlinewidth": 0,
             "ticks": ""
            },
            "type": "choropleth"
           }
          ],
          "contour": [
           {
            "colorbar": {
             "outlinewidth": 0,
             "ticks": ""
            },
            "colorscale": [
             [
              0,
              "#0d0887"
             ],
             [
              0.1111111111111111,
              "#46039f"
             ],
             [
              0.2222222222222222,
              "#7201a8"
             ],
             [
              0.3333333333333333,
              "#9c179e"
             ],
             [
              0.4444444444444444,
              "#bd3786"
             ],
             [
              0.5555555555555556,
              "#d8576b"
             ],
             [
              0.6666666666666666,
              "#ed7953"
             ],
             [
              0.7777777777777778,
              "#fb9f3a"
             ],
             [
              0.8888888888888888,
              "#fdca26"
             ],
             [
              1,
              "#f0f921"
             ]
            ],
            "type": "contour"
           }
          ],
          "contourcarpet": [
           {
            "colorbar": {
             "outlinewidth": 0,
             "ticks": ""
            },
            "type": "contourcarpet"
           }
          ],
          "heatmap": [
           {
            "colorbar": {
             "outlinewidth": 0,
             "ticks": ""
            },
            "colorscale": [
             [
              0,
              "#0d0887"
             ],
             [
              0.1111111111111111,
              "#46039f"
             ],
             [
              0.2222222222222222,
              "#7201a8"
             ],
             [
              0.3333333333333333,
              "#9c179e"
             ],
             [
              0.4444444444444444,
              "#bd3786"
             ],
             [
              0.5555555555555556,
              "#d8576b"
             ],
             [
              0.6666666666666666,
              "#ed7953"
             ],
             [
              0.7777777777777778,
              "#fb9f3a"
             ],
             [
              0.8888888888888888,
              "#fdca26"
             ],
             [
              1,
              "#f0f921"
             ]
            ],
            "type": "heatmap"
           }
          ],
          "heatmapgl": [
           {
            "colorbar": {
             "outlinewidth": 0,
             "ticks": ""
            },
            "colorscale": [
             [
              0,
              "#0d0887"
             ],
             [
              0.1111111111111111,
              "#46039f"
             ],
             [
              0.2222222222222222,
              "#7201a8"
             ],
             [
              0.3333333333333333,
              "#9c179e"
             ],
             [
              0.4444444444444444,
              "#bd3786"
             ],
             [
              0.5555555555555556,
              "#d8576b"
             ],
             [
              0.6666666666666666,
              "#ed7953"
             ],
             [
              0.7777777777777778,
              "#fb9f3a"
             ],
             [
              0.8888888888888888,
              "#fdca26"
             ],
             [
              1,
              "#f0f921"
             ]
            ],
            "type": "heatmapgl"
           }
          ],
          "histogram": [
           {
            "marker": {
             "pattern": {
              "fillmode": "overlay",
              "size": 10,
              "solidity": 0.2
             }
            },
            "type": "histogram"
           }
          ],
          "histogram2d": [
           {
            "colorbar": {
             "outlinewidth": 0,
             "ticks": ""
            },
            "colorscale": [
             [
              0,
              "#0d0887"
             ],
             [
              0.1111111111111111,
              "#46039f"
             ],
             [
              0.2222222222222222,
              "#7201a8"
             ],
             [
              0.3333333333333333,
              "#9c179e"
             ],
             [
              0.4444444444444444,
              "#bd3786"
             ],
             [
              0.5555555555555556,
              "#d8576b"
             ],
             [
              0.6666666666666666,
              "#ed7953"
             ],
             [
              0.7777777777777778,
              "#fb9f3a"
             ],
             [
              0.8888888888888888,
              "#fdca26"
             ],
             [
              1,
              "#f0f921"
             ]
            ],
            "type": "histogram2d"
           }
          ],
          "histogram2dcontour": [
           {
            "colorbar": {
             "outlinewidth": 0,
             "ticks": ""
            },
            "colorscale": [
             [
              0,
              "#0d0887"
             ],
             [
              0.1111111111111111,
              "#46039f"
             ],
             [
              0.2222222222222222,
              "#7201a8"
             ],
             [
              0.3333333333333333,
              "#9c179e"
             ],
             [
              0.4444444444444444,
              "#bd3786"
             ],
             [
              0.5555555555555556,
              "#d8576b"
             ],
             [
              0.6666666666666666,
              "#ed7953"
             ],
             [
              0.7777777777777778,
              "#fb9f3a"
             ],
             [
              0.8888888888888888,
              "#fdca26"
             ],
             [
              1,
              "#f0f921"
             ]
            ],
            "type": "histogram2dcontour"
           }
          ],
          "mesh3d": [
           {
            "colorbar": {
             "outlinewidth": 0,
             "ticks": ""
            },
            "type": "mesh3d"
           }
          ],
          "parcoords": [
           {
            "line": {
             "colorbar": {
              "outlinewidth": 0,
              "ticks": ""
             }
            },
            "type": "parcoords"
           }
          ],
          "pie": [
           {
            "automargin": true,
            "type": "pie"
           }
          ],
          "scatter": [
           {
            "fillpattern": {
             "fillmode": "overlay",
             "size": 10,
             "solidity": 0.2
            },
            "type": "scatter"
           }
          ],
          "scatter3d": [
           {
            "line": {
             "colorbar": {
              "outlinewidth": 0,
              "ticks": ""
             }
            },
            "marker": {
             "colorbar": {
              "outlinewidth": 0,
              "ticks": ""
             }
            },
            "type": "scatter3d"
           }
          ],
          "scattercarpet": [
           {
            "marker": {
             "colorbar": {
              "outlinewidth": 0,
              "ticks": ""
             }
            },
            "type": "scattercarpet"
           }
          ],
          "scattergeo": [
           {
            "marker": {
             "colorbar": {
              "outlinewidth": 0,
              "ticks": ""
             }
            },
            "type": "scattergeo"
           }
          ],
          "scattergl": [
           {
            "marker": {
             "colorbar": {
              "outlinewidth": 0,
              "ticks": ""
             }
            },
            "type": "scattergl"
           }
          ],
          "scattermapbox": [
           {
            "marker": {
             "colorbar": {
              "outlinewidth": 0,
              "ticks": ""
             }
            },
            "type": "scattermapbox"
           }
          ],
          "scatterpolar": [
           {
            "marker": {
             "colorbar": {
              "outlinewidth": 0,
              "ticks": ""
             }
            },
            "type": "scatterpolar"
           }
          ],
          "scatterpolargl": [
           {
            "marker": {
             "colorbar": {
              "outlinewidth": 0,
              "ticks": ""
             }
            },
            "type": "scatterpolargl"
           }
          ],
          "scatterternary": [
           {
            "marker": {
             "colorbar": {
              "outlinewidth": 0,
              "ticks": ""
             }
            },
            "type": "scatterternary"
           }
          ],
          "surface": [
           {
            "colorbar": {
             "outlinewidth": 0,
             "ticks": ""
            },
            "colorscale": [
             [
              0,
              "#0d0887"
             ],
             [
              0.1111111111111111,
              "#46039f"
             ],
             [
              0.2222222222222222,
              "#7201a8"
             ],
             [
              0.3333333333333333,
              "#9c179e"
             ],
             [
              0.4444444444444444,
              "#bd3786"
             ],
             [
              0.5555555555555556,
              "#d8576b"
             ],
             [
              0.6666666666666666,
              "#ed7953"
             ],
             [
              0.7777777777777778,
              "#fb9f3a"
             ],
             [
              0.8888888888888888,
              "#fdca26"
             ],
             [
              1,
              "#f0f921"
             ]
            ],
            "type": "surface"
           }
          ],
          "table": [
           {
            "cells": {
             "fill": {
              "color": "#EBF0F8"
             },
             "line": {
              "color": "white"
             }
            },
            "header": {
             "fill": {
              "color": "#C8D4E3"
             },
             "line": {
              "color": "white"
             }
            },
            "type": "table"
           }
          ]
         },
         "layout": {
          "annotationdefaults": {
           "arrowcolor": "#2a3f5f",
           "arrowhead": 0,
           "arrowwidth": 1
          },
          "autotypenumbers": "strict",
          "coloraxis": {
           "colorbar": {
            "outlinewidth": 0,
            "ticks": ""
           }
          },
          "colorscale": {
           "diverging": [
            [
             0,
             "#8e0152"
            ],
            [
             0.1,
             "#c51b7d"
            ],
            [
             0.2,
             "#de77ae"
            ],
            [
             0.3,
             "#f1b6da"
            ],
            [
             0.4,
             "#fde0ef"
            ],
            [
             0.5,
             "#f7f7f7"
            ],
            [
             0.6,
             "#e6f5d0"
            ],
            [
             0.7,
             "#b8e186"
            ],
            [
             0.8,
             "#7fbc41"
            ],
            [
             0.9,
             "#4d9221"
            ],
            [
             1,
             "#276419"
            ]
           ],
           "sequential": [
            [
             0,
             "#0d0887"
            ],
            [
             0.1111111111111111,
             "#46039f"
            ],
            [
             0.2222222222222222,
             "#7201a8"
            ],
            [
             0.3333333333333333,
             "#9c179e"
            ],
            [
             0.4444444444444444,
             "#bd3786"
            ],
            [
             0.5555555555555556,
             "#d8576b"
            ],
            [
             0.6666666666666666,
             "#ed7953"
            ],
            [
             0.7777777777777778,
             "#fb9f3a"
            ],
            [
             0.8888888888888888,
             "#fdca26"
            ],
            [
             1,
             "#f0f921"
            ]
           ],
           "sequentialminus": [
            [
             0,
             "#0d0887"
            ],
            [
             0.1111111111111111,
             "#46039f"
            ],
            [
             0.2222222222222222,
             "#7201a8"
            ],
            [
             0.3333333333333333,
             "#9c179e"
            ],
            [
             0.4444444444444444,
             "#bd3786"
            ],
            [
             0.5555555555555556,
             "#d8576b"
            ],
            [
             0.6666666666666666,
             "#ed7953"
            ],
            [
             0.7777777777777778,
             "#fb9f3a"
            ],
            [
             0.8888888888888888,
             "#fdca26"
            ],
            [
             1,
             "#f0f921"
            ]
           ]
          },
          "colorway": [
           "#636efa",
           "#EF553B",
           "#00cc96",
           "#ab63fa",
           "#FFA15A",
           "#19d3f3",
           "#FF6692",
           "#B6E880",
           "#FF97FF",
           "#FECB52"
          ],
          "font": {
           "color": "#2a3f5f"
          },
          "geo": {
           "bgcolor": "white",
           "lakecolor": "white",
           "landcolor": "#E5ECF6",
           "showlakes": true,
           "showland": true,
           "subunitcolor": "white"
          },
          "hoverlabel": {
           "align": "left"
          },
          "hovermode": "closest",
          "mapbox": {
           "style": "light"
          },
          "paper_bgcolor": "white",
          "plot_bgcolor": "#E5ECF6",
          "polar": {
           "angularaxis": {
            "gridcolor": "white",
            "linecolor": "white",
            "ticks": ""
           },
           "bgcolor": "#E5ECF6",
           "radialaxis": {
            "gridcolor": "white",
            "linecolor": "white",
            "ticks": ""
           }
          },
          "scene": {
           "xaxis": {
            "backgroundcolor": "#E5ECF6",
            "gridcolor": "white",
            "gridwidth": 2,
            "linecolor": "white",
            "showbackground": true,
            "ticks": "",
            "zerolinecolor": "white"
           },
           "yaxis": {
            "backgroundcolor": "#E5ECF6",
            "gridcolor": "white",
            "gridwidth": 2,
            "linecolor": "white",
            "showbackground": true,
            "ticks": "",
            "zerolinecolor": "white"
           },
           "zaxis": {
            "backgroundcolor": "#E5ECF6",
            "gridcolor": "white",
            "gridwidth": 2,
            "linecolor": "white",
            "showbackground": true,
            "ticks": "",
            "zerolinecolor": "white"
           }
          },
          "shapedefaults": {
           "line": {
            "color": "#2a3f5f"
           }
          },
          "ternary": {
           "aaxis": {
            "gridcolor": "white",
            "linecolor": "white",
            "ticks": ""
           },
           "baxis": {
            "gridcolor": "white",
            "linecolor": "white",
            "ticks": ""
           },
           "bgcolor": "#E5ECF6",
           "caxis": {
            "gridcolor": "white",
            "linecolor": "white",
            "ticks": ""
           }
          },
          "title": {
           "x": 0.05
          },
          "xaxis": {
           "automargin": true,
           "gridcolor": "white",
           "linecolor": "white",
           "ticks": "",
           "title": {
            "standoff": 15
           },
           "zerolinecolor": "white",
           "zerolinewidth": 2
          },
          "yaxis": {
           "automargin": true,
           "gridcolor": "white",
           "linecolor": "white",
           "ticks": "",
           "title": {
            "standoff": 15
           },
           "zerolinecolor": "white",
           "zerolinewidth": 2
          }
         }
        },
        "xaxis": {
         "tickangle": 90,
         "tickfont": {
          "size": 12
         },
         "title": {
          "text": "Años"
         },
         "type": "category"
        },
        "yaxis": {
         "hoverformat": ".2f",
         "nticks": 8,
         "tickfont": {
          "size": 12
         },
         "tickmode": "array",
         "tickvals": [
          5.8005665,
          6.0037928,
          6.2070191,
          6.4102454,
          6.613471700000001,
          6.816698000000001,
          7.0199243000000004,
          7.2231506
         ],
         "title": {
          "text": "Tasas"
         }
        }
       }
      }
     },
     "metadata": {},
     "output_type": "display_data"
    }
   ],
   "source": [
    "cc.plot_curva(df_cup)\n"
   ]
  },
  {
   "cell_type": "code",
   "execution_count": 23,
   "metadata": {},
   "outputs": [],
   "source": [
    "data = {\n",
    "    \"dias\": [0, 30, 60 , 90 , 120],    \n",
    "}\n",
    "\n",
    "df_test = pd.DataFrame(data)\n",
    "\n",
    "\n",
    "df_test['tasas'] = df_test['dias'].apply(cc.get_tasa_interes_por_dias, args=(df_cup,))"
   ]
  },
  {
   "cell_type": "code",
   "execution_count": 24,
   "metadata": {},
   "outputs": [
    {
     "data": {
      "text/html": [
       "<div>\n",
       "<style scoped>\n",
       "    .dataframe tbody tr th:only-of-type {\n",
       "        vertical-align: middle;\n",
       "    }\n",
       "\n",
       "    .dataframe tbody tr th {\n",
       "        vertical-align: top;\n",
       "    }\n",
       "\n",
       "    .dataframe thead th {\n",
       "        text-align: right;\n",
       "    }\n",
       "</style>\n",
       "<table border=\"1\" class=\"dataframe\">\n",
       "  <thead>\n",
       "    <tr style=\"text-align: right;\">\n",
       "      <th></th>\n",
       "      <th>dias</th>\n",
       "      <th>tasas</th>\n",
       "    </tr>\n",
       "  </thead>\n",
       "  <tbody>\n",
       "    <tr>\n",
       "      <th>0</th>\n",
       "      <td>0</td>\n",
       "      <td>7.223151</td>\n",
       "    </tr>\n",
       "    <tr>\n",
       "      <th>1</th>\n",
       "      <td>30</td>\n",
       "      <td>6.995795</td>\n",
       "    </tr>\n",
       "    <tr>\n",
       "      <th>2</th>\n",
       "      <td>60</td>\n",
       "      <td>6.768440</td>\n",
       "    </tr>\n",
       "    <tr>\n",
       "      <th>3</th>\n",
       "      <td>90</td>\n",
       "      <td>6.541085</td>\n",
       "    </tr>\n",
       "    <tr>\n",
       "      <th>4</th>\n",
       "      <td>120</td>\n",
       "      <td>6.405970</td>\n",
       "    </tr>\n",
       "  </tbody>\n",
       "</table>\n",
       "</div>"
      ],
      "text/plain": [
       "   dias     tasas\n",
       "0     0  7.223151\n",
       "1    30  6.995795\n",
       "2    60  6.768440\n",
       "3    90  6.541085\n",
       "4   120  6.405970"
      ]
     },
     "execution_count": 24,
     "metadata": {},
     "output_type": "execute_result"
    }
   ],
   "source": [
    "df_test"
   ]
  }
 ],
 "metadata": {
  "kernelspec": {
   "display_name": "sbs-helper",
   "language": "python",
   "name": "python3"
  },
  "language_info": {
   "codemirror_mode": {
    "name": "ipython",
    "version": 3
   },
   "file_extension": ".py",
   "mimetype": "text/x-python",
   "name": "python",
   "nbconvert_exporter": "python",
   "pygments_lexer": "ipython3",
   "version": "3.8.2"
  },
  "orig_nbformat": 4
 },
 "nbformat": 4,
 "nbformat_minor": 2
}
