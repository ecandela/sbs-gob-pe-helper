{
 "cells": [
  {
   "cell_type": "code",
   "execution_count": 1,
   "metadata": {},
   "outputs": [],
   "source": [
    "import requests\n",
    "from bs4 import BeautifulSoup\n",
    "import pandas as pd\n",
    "import time"
   ]
  },
  {
   "cell_type": "code",
   "execution_count": 2,
   "metadata": {},
   "outputs": [
    {
     "name": "stdout",
     "output_type": "stream",
     "text": [
      "Cookies obtenidas exitosamente.\n"
     ]
    }
   ],
   "source": [
    "url = \"https://www.sbs.gob.pe/app/stats/tc-cv-historico.asp\"\n",
    "session = requests.Session() # Creamos una sesión para guardar las cookies\n",
    "headers_get = { \n",
    "    \"User-Agent\": \"Mozilla/5.0 (Windows NT 10.0; Win64; x64) AppleWebKit/537.36 (KHTML, like Gecko) Chrome/131.0.0.0 Safari/537.36\",\n",
    "    \"Accept\": \"text/html,application/xhtml+xml,application/xml;q=0.9,image/avif,image/webp,image/apng,/;q=0.8,application/signed-exchange;v=b3;q=0.7\",\n",
    "    \"Accept-Encoding\": \"gzip, deflate, br, zstd\",\n",
    "    \"Accept-Language\": \"es-ES,es;q=0.9\",\n",
    "    \"Upgrade-Insecure-Requests\": \"1\",\n",
    "}\n",
    "response = session.get(url, headers=headers_get) #Con el método get entramos a la página y guargamos las cookies\n",
    "if response.status_code == 200:\n",
    "    print(\"Cookies obtenidas exitosamente.\")\n",
    "else:\n",
    "    print(\"Hubo un error\")"
   ]
  },
  {
   "cell_type": "code",
   "execution_count": null,
   "metadata": {},
   "outputs": [],
   "source": [
    "headers_post = {\n",
    "    \"Content-Type\": \"application/x-www-form-urlencoded\",\n",
    "    \"Accept\": \"text/html,application/xhtml+xml,application/xml;q=0.9,image/avif,image/webp,image/apng,/;q=0.8,application/signed-exchange;v=b3;q=0.7\",\n",
    "    \"Accept-Encoding\": \"gzip, deflate, br, zstd\",\n",
    "    \"Accept-Language\": \"es-ES,es;q=0.9\",\n",
    "    \"Referer\": url,\n",
    "    \"Origin\": \"https://www.sbs.gob.pe\",\n",
    "    \"User-Agent\": \"Mozilla/5.0 (Windows NT 10.0; Win64; x64) AppleWebKit/537.36 (KHTML, like Gecko) Chrome/131.0.0.0 Safari/537.36\",\n",
    "    \"Upgrade-Insecure-Requests\": \"1\",\n",
    "    \"Sec-Fetch-Dest\": \"document\",\n",
    "    \"Sec-Fetch-Mode\": \"navigate\",\n",
    "    \"Sec-Fetch-Site\": \"same-origin\",\n",
    "    \"Sec-Fetch-User\": \"?1\",\n",
    "}\n",
    "\n",
    "inicio=str(input('Ingrese fecha de inicio en formato DD/MM/YYYY: '))\n",
    "fin=str(input('Ingrese fecha de en formato DD/MM/YYYY: '))\n",
    "\n",
    "# Filtros para ejecutar la consulta a la API\n",
    "data = {\n",
    "    \"FECHA_CONSULTA_1\": inicio,  # Fecha de inicio\n",
    "    \"FECHA_CONSULTA_2\": fin,  # Fecha de fin\n",
    "    \"s_moneda\": \"02\", # \"02\" es el código para el dólar\n",
    "    \"button22\": \"Consultar\"\n",
    "}\n",
    "\n",
    "# Realizar la solicitud POST (se hace desde la sesión guardada)\n",
    "\n",
    "response = session.post(url, headers=headers_post, data=data)\n",
    "if response.status_code == 200:\n",
    "    print(\"Consulta ejecutada.\")\n",
    "else:\n",
    "    print(\"Hubo un error\")"
   ]
  },
  {
   "cell_type": "code",
   "execution_count": 7,
   "metadata": {},
   "outputs": [
    {
     "data": {
      "text/plain": [
       "'\\r\\n<!DOCTYPE html PUBLIC \"-//W3C//DTD XHTML 1.0 Transitional//EN\" \"http://www.w3.org/TR/xhtml1/DTD/xhtml1-transitional.dtd\">\\r\\n<html xmlns=\"http://www.w3.org/1999/xhtml\">\\r\\n<head>\\r\\n<meta http-equiv=\"Content-Type\" content=\"text/html; charset=utf-8\" />\\r\\n<title>Aplicaciones</title>\\r\\n<link href=\"../plantillas/estilos/aplicaciones.css\" rel=\"stylesheet\" type=\"text/css\" />\\r\\n<link rel=\"stylesheet\" href=\"estilos/MEN01.css\" />\\r\\n<link href=\"/RepositorioAPS/estilos/0/0/WEB.css\" rel=\"stylesheet\" type=\"text/css\" />\\r\\n<link href=\"/RepositorioAPS/estilos/0/0/GEN.css\" rel=\"stylesheet\" type=\"text/css\" />\\r\\n<link href=\"/calendario/theme/calendar-tas.css\" rel=\"stylesheet\" type=\"text/css\" />\\r\\n<link href=\"/calendario/calendar.css\" rel=\"stylesheet\" type=\"text/css\" />\\r\\n\\r\\n<script type=\"text/javascript\" src=\"../plantillas/libreriajs/jquery.js\"></script>\\r\\n<script type=\"text/javascript\" src=\"../plantillas/libreriajs/jquery.easing.1.3.js\"></script>\\r\\n<script type=\"text/javascript\" src=\"../plantillas/libreriajs/menu_01_APS.js\"></script>\\r\\n\\r\\n<script type=\"text/javascript\" charset=\"utf-8\" src=\"/calendario/calendar.js\"></script>\\r\\n<script type=\"text/javascript\" charset=\"utf-8\" src=\"/calendario/calendar-setup.js\"></script>\\r\\n<script type=\"text/javascript\" charset=\"utf-8\" src=\"/calendario/lang/calendar-es.js\"></script>\\r\\n<script type=\"text/javascript\">\\r\\n \\r\\n function ValidarFechas()\\r\\n {\\r\\n\\t\\r\\n\\tvar valor1 = $(\"#FECHA_CONSULTA_1\").val();\\r\\n\\tif (!ValidateFieldDate(valor1)){\\r\\n\\t  $(\"#FECHA_CONSULTA_1\").focus();\\r\\n\\t  return false;\\r\\n\\t}\\r\\n\\tvar valor2 = $(\"#FECHA_CONSULTA_2\").val();\\r\\n\\tif (!ValidateFieldDate(valor2))\\r\\n\\t{\\r\\n\\t\\t $(\"#FECHA_CONSULTA_2\").focus();\\r\\n     \\treturn false;\\r\\n\\t}\\r\\n\\r\\n\\treturn true;\\r\\n }\\r\\n\\r\\n function ValidateFieldDate(valor) {\\r\\n\\t var paso = true;\\r\\n  patron = /^(((0[1-9]|[12][0-9]|3[01])([-./])(0[13578]|10|12)([-./])(\\\\d{4}))|(([0][1-9]|[12][0-9]|30)([-./])(0[469]|11)([-./])(\\\\d{4}))|((0[1-9]|1[0-9]|2[0-8])([-./])(02)([-./])(\\\\d{4}))|((29)(\\\\.|-|\\\\/)(02)([-./])([02468][048]00))|((29)([-./])(02)([-./])([13579][26]00))|((29)([-./])(02)([-./])([0-9][0-9][0][48]))|((29)([-./])(02)([-./])([0-9][0-9][2468][048]))|((29)([-./])(02)([-./])([0-9][0-9][13579][26])))$/\\r\\n   //alert(\"paso\");\\r\\n   if (patron.test(valor)==false)\\r\\n   {\\r\\n\\t  alert(\\'Debe ingresar una fecha vÃ¡lida\\\\n-Verifique que el formato de fecha sea dd/mm/aaaa\\\\n-Verifique que la fecha existe \\');  \\r\\n\\t  paso = false;\\r\\n   }\\r\\n   //alert(\"llego\");\\r\\n   return paso;\\r\\n  }\\r\\n  \\r\\n  \\r\\n</script>\\r\\n</head>\\r\\n\\r\\n<body>\\r\\n<form method=\"post\"  onsubmit=\"return ValidarFechas();\">\\r\\n<table width=\"100%\" border=\"0\" align=\"center\" cellpadding=\"0\" cellspacing=\"0\" class=\"Apli_back3\">\\r\\n  <tr>\\r\\n    <td height=\"24\" align=\"right\" ><p ><div class=\"WEB_CONTE_opcionesSuperior\"><ul><li><a href=\"javascript:close()\">Cerrar</a></li></ul></div></td>\\r\\n  </tr>\\r\\n  <tr>\\r\\n    <td height=\"70\" valign=\"top\"><img src=\"../plantillas/images/logo_chico.gif\" alt=\"SBS\" /></td>\\r\\n  </tr>\\r\\n</table>\\r\\n<table width=\"600\" border=\"0\" align=\"center\" cellpadding=\"0\" cellspacing=\"0\">\\r\\n  <tr>\\r\\n    <td><div class=\"APLI_contenidoInterno\">\\r\\n      <table width=\"100%\" border=\"0\" cellspacing=\"0\" cellpadding=\"0\">\\r\\n        <tr>\\r\\n          <td valign=\"top\">\\r\\n\\t\\t    <table width=\"776\" border=\"0\" align=\"center\" cellpadding=\"0\" cellspacing=\"0\">\\r\\n              <tr>\\r\\n                <td ><div class=\"APLI_contenidoInterno\">\\r\\n                    <div class=\"APLI_titulo\"> <strong>COTIZACI&Oacute;N DE OFERTA Y DEMANDA TIPO DE CAMBIO PROMEDIO PONDERADO </strong> </div>\\r\\n                    <table width=\"540\" border=\"0\" cellspacing=\"0\" cellpadding=\"0\">\\r\\n                      <tr>\\r\\n                        <td valign=\"top\"><table width=\"100%\" border=\"0\" cellspacing=\"0\" cellpadding=\"0\" class=\"APLI_conteTabla2\">\\r\\n                              <tr>\\r\\n                                <td><table width=\"100%\" border=\"0\" cellspacing=\"0\" cellpadding=\"0\">\\r\\n                                    <tr>\\r\\n                                      <td align=\"center\" valign=\"top\" class=\"APLI_subtitulo\"><table width=\"100%\" border=\"0\" cellspacing=\"0\" cellpadding=\"0\">\\r\\n                                        <tr>\\r\\n                                          <td width=\"125\" class=\"APLI_txtCampo\"><div align=\"right\">Fecha de Inicio:&nbsp;</div></td>\\r\\n                                          <td width=\"89\"><div align=\"right\">\\r\\n                                            <input name=\"FECHA_CONSULTA_1\" type=\"text\" class=\"APLI_input1\" id=\"FECHA_CONSULTA_1\" value=\"01/01/2025\" size=\"10\" maxlength=\"10\"   />\\r\\n                                          </div></td>\\r\\n                                          <td  width=\"151\" class=\"APLI_txtFecha\">\\r\\n                                            <div id=\"FCH_FECHA_BOTON_1\" class=\"APLI_botonCalendario\" title=\"Hacer clic para ver calendario\"></div>\\r\\n                                            <script type=\"text/javascript\">\\r\\n\\t\\t\\t\\tCalendar.setup({\\r\\n\\t\\t\\t\\tinputField    : \"FECHA_CONSULTA_1\",\\r\\n\\t\\t\\t\\tbutton        : \"FCH_FECHA_BOTON_1\",\\r\\n\\t\\t\\t\\tifFormat      : \"%d/%m/%Y\"\\r\\n\\t\\t\\t\\t});\\r\\n\\t\\t\\t                          </script>\\r\\n&nbsp;(dd/mm/aaaa)</td><td width=\"173\" class=\"APLI_txtFecha\">\\r\\n<input name=\"button22\" type=\"submit\" class=\"APLI_boton\" id=\"button222\" value=\"Consultar\" /></td>\\r\\n                                        </tr>\\r\\n                                        <tr>\\r\\n                                          <td class=\"APLI_txtCampo\"><div align=\"right\">Fecha de Fin:&nbsp;</div></td>\\r\\n                                          <td><div align=\"right\">\\r\\n                                            <input name=\"FECHA_CONSULTA_2\" type=\"text\" class=\"APLI_input1\" id=\"FECHA_CONSULTA_2\" value=\"01/01/2025\" size=\"10\" maxlength=\"10\" />\\r\\n                                          </div></td>\\r\\n                                          <td class=\"APLI_txtFecha\">\\r\\n                                            <div id=\"FCH_FECHA_BOTON_2\" class=\"APLI_botonCalendario\" title=\"Hacer clic para ver calendario\"></div>\\r\\n                                            <script type=\"text/javascript\">\\r\\n\\t\\t\\t\\tCalendar.setup({\\r\\n\\t\\t\\t\\tinputField    : \"FECHA_CONSULTA_2\",\\r\\n\\t\\t\\t\\tbutton        : \"FCH_FECHA_BOTON_2\",\\r\\n\\t\\t\\t\\tifFormat      : \"%d/%m/%Y\"\\r\\n\\t\\t\\t\\t});\\r\\n\\t\\t\\t                              </script>\\r\\n&nbsp;(dd/mm/aaaa)</td>\\r\\n                                          <td class=\"APLI_txtFecha\">&nbsp;</td>\\r\\n                                        </tr>\\r\\n                                        <tr >\\r\\n                                          <td class=\"APLI_txtCampo\"><div align=\"right\">Moneda:</div></td>\\r\\n                                          <td class=\"APLI_txtCampo\">\\r\\n                                            \\r\\n                                            <select name=\"s_moneda\" class=\"APLI_txtCampo\">\\r\\n                                              <option value=\"\" selected></option>\\r\\n                                              \\r\\n                                              <option value=\"90\" >Taka BangladesÃ\\xad</option>\\r\\n                                              \\r\\n                                              <option value=\"02\" selected>DÃ³lar de N. A.</option>\\r\\n                                              \\r\\n                                              <option value=\"43\" >Peso Mexicano</option>\\r\\n                                              \\r\\n                                              <option value=\"34\" >Libra Esterlina</option>\\r\\n                                              \\r\\n                                              <option value=\"11\" >DÃ³lar Canadiense</option>\\r\\n                                              \\r\\n                                              <option value=\"38\" >Yen JaponÃ©s</option>\\r\\n                                              \\r\\n                                              <option value=\"05\" >DÃ³lar Australiano</option>\\r\\n                                              \\r\\n                                              <option value=\"10\" >Real</option>\\r\\n                                              \\r\\n                                              <option value=\"57\" >Franco Suizo</option>\\r\\n                                              \\r\\n                                              <option value=\"91\" >Lari Georgiano</option>\\r\\n                                              \\r\\n                                              <option value=\"66\" >Euro</option>\\r\\n                                              \\r\\n                                            </select>                                          </td>\\r\\n                                          <td class=\"APLI_txtFecha\">&nbsp;</td>\\r\\n                                          <td class=\"APLI_txtFecha\">&nbsp;</td>\\r\\n                                        </tr>\\r\\n                                      </table></td>\\r\\n                                    </tr>\\r\\n                                </table></td>\\r\\n                              </tr>\\r\\n                            </table>\\r\\n\\r\\n<table width=\"100%\" border=\"0\" cellspacing=\"0\" cellpadding=\"0\" class=\"APLI_conteTabla2\">\\r\\n                              <tr>\\r\\n                                <td><table width=\"100%\" border=\"0\" cellspacing=\"0\" cellpadding=\"0\">\\r\\n                                    <tr>\\r\\n                                      <td><table border=\"0\" cellspacing=\"0\" cellpadding=\"0\" class=\"APLI_tabla\">\\r\\n                                          <tr>\\r\\n                                            <td class=\"APLI_fila2\">No existe informaci&oacute;n para la fecha elegida  </td>\\r\\n                                          </tr>\\r\\n                                      </table></td>\\r\\n                                    </tr>\\r\\n                                </table></td>\\r\\n                              </tr>\\r\\n                          </table>\\r\\n\\r\\n\\r\\n\\r\\n                              </p></td>\\r\\n                      </tr>\\r\\n                  </table>\\r\\n                </div></td>\\r\\n              </tr>\\r\\n            </table>\\r\\n</form>\\r\\n<script type=\"text/javascript\" src=\"/_Incapsula_Resource?SWJIYLWA=719d34d31c8e3a6e6fffd425f7e032f3&ns=3&cb=146233216\" async></script></body>\\r\\n</html>\\r\\n'"
      ]
     },
     "execution_count": 7,
     "metadata": {},
     "output_type": "execute_result"
    }
   ],
   "source": [
    "response.text"
   ]
  },
  {
   "cell_type": "code",
   "execution_count": 6,
   "metadata": {},
   "outputs": [
    {
     "ename": "IndexError",
     "evalue": "list index out of range",
     "output_type": "error",
     "traceback": [
      "\u001b[1;31m---------------------------------------------------------------------------\u001b[0m",
      "\u001b[1;31mIndexError\u001b[0m                                Traceback (most recent call last)",
      "Cell \u001b[1;32mIn[6], line 10\u001b[0m\n\u001b[0;32m      7\u001b[0m     celdas \u001b[38;5;241m=\u001b[39m fila\u001b[38;5;241m.\u001b[39mfind_all([\u001b[38;5;124m'\u001b[39m\u001b[38;5;124mtd\u001b[39m\u001b[38;5;124m'\u001b[39m, \u001b[38;5;124m'\u001b[39m\u001b[38;5;124mth\u001b[39m\u001b[38;5;124m'\u001b[39m])\n\u001b[0;32m      8\u001b[0m     data\u001b[38;5;241m.\u001b[39mappend([celda\u001b[38;5;241m.\u001b[39mget_text(strip\u001b[38;5;241m=\u001b[39m\u001b[38;5;28;01mTrue\u001b[39;00m) \u001b[38;5;28;01mfor\u001b[39;00m celda \u001b[38;5;129;01min\u001b[39;00m celdas])\n\u001b[1;32m---> 10\u001b[0m df \u001b[38;5;241m=\u001b[39m pd\u001b[38;5;241m.\u001b[39mDataFrame(data[\u001b[38;5;241m2\u001b[39m:], columns\u001b[38;5;241m=\u001b[39m\u001b[43mdata\u001b[49m\u001b[43m[\u001b[49m\u001b[38;5;241;43m1\u001b[39;49m\u001b[43m]\u001b[49m)\n",
      "\u001b[1;31mIndexError\u001b[0m: list index out of range"
     ]
    }
   ],
   "source": [
    "response_text=response.text\n",
    "soup = BeautifulSoup(response_text, 'html.parser') # Parseo del código html\n",
    "tabla = soup.find('table', class_='APLI_tabla')\n",
    "filas = tabla.find_all('tr')\n",
    "data = []\n",
    "for fila in filas:\n",
    "    celdas = fila.find_all(['td', 'th'])\n",
    "    data.append([celda.get_text(strip=True) for celda in celdas])\n",
    "\n",
    "df = pd.DataFrame(data[2:], columns=data[1])"
   ]
  }
 ],
 "metadata": {
  "kernelspec": {
   "display_name": "Python 3",
   "language": "python",
   "name": "python3"
  },
  "language_info": {
   "codemirror_mode": {
    "name": "ipython",
    "version": 3
   },
   "file_extension": ".py",
   "mimetype": "text/x-python",
   "name": "python",
   "nbconvert_exporter": "python",
   "pygments_lexer": "ipython3",
   "version": "3.8.2"
  }
 },
 "nbformat": 4,
 "nbformat_minor": 2
}
