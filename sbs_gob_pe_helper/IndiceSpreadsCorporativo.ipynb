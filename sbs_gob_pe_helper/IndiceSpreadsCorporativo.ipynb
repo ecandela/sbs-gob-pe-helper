{
 "cells": [
  {
   "cell_type": "code",
   "execution_count": 17,
   "metadata": {},
   "outputs": [],
   "source": [
    "import IndiceSpreadsCorporativo as isc "
   ]
  },
  {
   "cell_type": "code",
   "execution_count": 18,
   "metadata": {},
   "outputs": [],
   "source": [
    "\n",
    "tpCurva = 'CCPSS'\n",
    "fInicial = '14/12/2006'\n",
    "fFinal = '29/01/2025'\n",
    "\n",
    "df_isc = isc.get_indice_spreads_corporativo(tipoCurva=tpCurva,fechaInicial=fInicial, fechaFinal=fFinal)"
   ]
  },
  {
   "cell_type": "code",
   "execution_count": 19,
   "metadata": {},
   "outputs": [],
   "source": [
    "from bs4 import BeautifulSoup \n",
    "soup_post_result = BeautifulSoup(df_isc, 'html.parser')\n",
    "tabla = soup_post_result.find(\"table\", class_=\"APLI_conteTabla2\")"
   ]
  },
  {
   "cell_type": "code",
   "execution_count": 20,
   "metadata": {},
   "outputs": [
    {
     "data": {
      "text/html": [
       "<div>\n",
       "<style scoped>\n",
       "    .dataframe tbody tr th:only-of-type {\n",
       "        vertical-align: middle;\n",
       "    }\n",
       "\n",
       "    .dataframe tbody tr th {\n",
       "        vertical-align: top;\n",
       "    }\n",
       "\n",
       "    .dataframe thead th {\n",
       "        text-align: right;\n",
       "    }\n",
       "</style>\n",
       "<table border=\"1\" class=\"dataframe\">\n",
       "  <thead>\n",
       "    <tr style=\"text-align: right;\">\n",
       "      <th></th>\n",
       "      <th>Sec.</th>\n",
       "      <th>Fecha de Proceso</th>\n",
       "      <th>Clasificación</th>\n",
       "      <th>Indice de Spread</th>\n",
       "    </tr>\n",
       "  </thead>\n",
       "  <tbody>\n",
       "    <tr>\n",
       "      <th>0</th>\n",
       "      <td>1</td>\n",
       "      <td>29/01/2025</td>\n",
       "      <td>1</td>\n",
       "      <td>0.5268</td>\n",
       "    </tr>\n",
       "    <tr>\n",
       "      <th>1</th>\n",
       "      <td>2</td>\n",
       "      <td>28/01/2025</td>\n",
       "      <td>1</td>\n",
       "      <td>0.5268</td>\n",
       "    </tr>\n",
       "    <tr>\n",
       "      <th>2</th>\n",
       "      <td>3</td>\n",
       "      <td>27/01/2025</td>\n",
       "      <td>1</td>\n",
       "      <td>0.5268</td>\n",
       "    </tr>\n",
       "    <tr>\n",
       "      <th>3</th>\n",
       "      <td>4</td>\n",
       "      <td>24/01/2025</td>\n",
       "      <td>1</td>\n",
       "      <td>0.5268</td>\n",
       "    </tr>\n",
       "    <tr>\n",
       "      <th>4</th>\n",
       "      <td>5</td>\n",
       "      <td>23/01/2025</td>\n",
       "      <td>1</td>\n",
       "      <td>0.5268</td>\n",
       "    </tr>\n",
       "    <tr>\n",
       "      <th>...</th>\n",
       "      <td>...</td>\n",
       "      <td>...</td>\n",
       "      <td>...</td>\n",
       "      <td>...</td>\n",
       "    </tr>\n",
       "    <tr>\n",
       "      <th>4737</th>\n",
       "      <td>4738</td>\n",
       "      <td>18/12/2006</td>\n",
       "      <td>1</td>\n",
       "      <td>0.2348</td>\n",
       "    </tr>\n",
       "    <tr>\n",
       "      <th>4738</th>\n",
       "      <td>4739</td>\n",
       "      <td>17/12/2006</td>\n",
       "      <td>1</td>\n",
       "      <td>0.2348</td>\n",
       "    </tr>\n",
       "    <tr>\n",
       "      <th>4739</th>\n",
       "      <td>4740</td>\n",
       "      <td>16/12/2006</td>\n",
       "      <td>1</td>\n",
       "      <td>0.2348</td>\n",
       "    </tr>\n",
       "    <tr>\n",
       "      <th>4740</th>\n",
       "      <td>4741</td>\n",
       "      <td>15/12/2006</td>\n",
       "      <td>1</td>\n",
       "      <td>0.2348</td>\n",
       "    </tr>\n",
       "    <tr>\n",
       "      <th>4741</th>\n",
       "      <td>4742</td>\n",
       "      <td>14/12/2006</td>\n",
       "      <td>1</td>\n",
       "      <td>0.2348</td>\n",
       "    </tr>\n",
       "  </tbody>\n",
       "</table>\n",
       "<p>4742 rows × 4 columns</p>\n",
       "</div>"
      ],
      "text/plain": [
       "      Sec. Fecha de Proceso Clasificación Indice de Spread\n",
       "0        1       29/01/2025             1           0.5268\n",
       "1        2       28/01/2025             1           0.5268\n",
       "2        3       27/01/2025             1           0.5268\n",
       "3        4       24/01/2025             1           0.5268\n",
       "4        5       23/01/2025             1           0.5268\n",
       "...    ...              ...           ...              ...\n",
       "4737  4738       18/12/2006             1           0.2348\n",
       "4738  4739       17/12/2006             1           0.2348\n",
       "4739  4740       16/12/2006             1           0.2348\n",
       "4740  4741       15/12/2006             1           0.2348\n",
       "4741  4742       14/12/2006             1           0.2348\n",
       "\n",
       "[4742 rows x 4 columns]"
      ]
     },
     "execution_count": 20,
     "metadata": {},
     "output_type": "execute_result"
    }
   ],
   "source": [
    "import pandas as pd \n",
    "\n",
    "data = []\n",
    "\n",
    "# Obtener los nombres de las columnas desde el primer tr\n",
    "header_cells = tabla.find_all(\"tr\")[0].find_all(\"td\")\n",
    "column_names = [celda.get_text(strip=True) for celda in header_cells]\n",
    "\n",
    "# Iterar sobre las filas de la tabla a partir de la segunda fila\n",
    "for fila in tabla.find_all(\"tr\")[1:]:\n",
    "    celdas = fila.find_all(\"td\")\n",
    "    if celdas:  # Solo procesar filas con datos\n",
    "        data.append([celda.get_text(strip=True) for celda in celdas])\n",
    "\n",
    "# Crear un DataFrame con los datos, usando los nombres de las columnas obtenidos\n",
    "df = pd.DataFrame(data, columns=column_names)\n",
    "\n",
    "# Mostrar el DataFrame\n",
    "df"
   ]
  },
  {
   "cell_type": "code",
   "execution_count": 12,
   "metadata": {},
   "outputs": [],
   "source": [
    "\n",
    "tbody = tabla.find('tbody')\n",
    "datos_tabla = []\n",
    "# Iterar sobre las filas de la tabla\n",
    "for fila in tbody.find_all('tr'):\n",
    "    # Obtener los datos de cada celda en la fila\n",
    "    celdas = fila.find_all('td')\n",
    "    datos_fila = [celda.text.strip() for celda in celdas]    \n",
    "    datos_tabla.append(datos_fila)  "
   ]
  },
  {
   "cell_type": "code",
   "execution_count": 13,
   "metadata": {},
   "outputs": [
    {
     "data": {
      "text/plain": [
       "[['Sec.', 'Fecha de Proceso', 'Clasificación', 'Indice de Spread'],\n",
       " ['1', '04/08/2023', '1', '0.6960'],\n",
       " ['2', '03/08/2023', '1', '0.6960'],\n",
       " ['3', '02/08/2023', '1', '0.6960'],\n",
       " ['4', '01/08/2023', '1', '0.6960'],\n",
       " ['5', '31/07/2023', '1', '0.6960'],\n",
       " ['6', '28/07/2023', '1', '0.6960'],\n",
       " ['7', '27/07/2023', '1', '0.6960'],\n",
       " ['8', '26/07/2023', '1', '0.6960'],\n",
       " ['9', '25/07/2023', '1', '0.6960'],\n",
       " ['10', '24/07/2023', '1', '0.6960'],\n",
       " ['11', '21/07/2023', '1', '0.6960'],\n",
       " ['12', '20/07/2023', '1', '0.6960'],\n",
       " ['13', '19/07/2023', '1', '0.6960'],\n",
       " ['14', '18/07/2023', '1', '0.6960'],\n",
       " ['15', '17/07/2023', '1', '0.6960'],\n",
       " ['16', '14/07/2023', '1', '0.6960'],\n",
       " ['17', '13/07/2023', '1', '0.6960'],\n",
       " ['18', '12/07/2023', '1', '0.6960'],\n",
       " ['19', '11/07/2023', '1', '0.6960'],\n",
       " ['20', '10/07/2023', '1', '0.6960'],\n",
       " ['21', '07/07/2023', '1', '0.6960'],\n",
       " ['22', '06/07/2023', '1', '0.6960'],\n",
       " ['23', '05/07/2023', '1', '0.6960'],\n",
       " ['24', '04/07/2023', '1', '0.6960']]"
      ]
     },
     "execution_count": 13,
     "metadata": {},
     "output_type": "execute_result"
    }
   ],
   "source": [
    "datos_tabla"
   ]
  }
 ],
 "metadata": {
  "kernelspec": {
   "display_name": "sbs-helper",
   "language": "python",
   "name": "python3"
  },
  "language_info": {
   "codemirror_mode": {
    "name": "ipython",
    "version": 3
   },
   "file_extension": ".py",
   "mimetype": "text/x-python",
   "name": "python",
   "nbconvert_exporter": "python",
   "pygments_lexer": "ipython3",
   "version": "3.8.2"
  }
 },
 "nbformat": 4,
 "nbformat_minor": 2
}
